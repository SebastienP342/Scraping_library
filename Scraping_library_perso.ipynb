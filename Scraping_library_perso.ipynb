{
 "cells": [
  {
   "cell_type": "code",
   "execution_count": 1,
   "id": "b6ebb47d",
   "metadata": {},
   "outputs": [],
   "source": [
    "from selenium import webdriver\n",
    "from selenium.webdriver.common.by import By\n"
   ]
  },
  {
   "cell_type": "code",
   "execution_count": null,
   "id": "8bd746bf",
   "metadata": {},
   "outputs": [],
   "source": [
    "#this function allows you to launch selenium, Chromium here, and returns the code source of the page (variable url)\n",
    "\n",
    "def selenium_launch(url):\n",
    "    driver = webdriver.Chrome()\n",
    "    driver.implicitly_wait(0.5)\n",
    "    driver.get(url)\n",
    "    driver.find_element(By.XPATH,cookies_button).click()\n",
    "    time.sleep(1.25)\n",
    "    \n",
    "    return driver\n",
    "\n",
    "\n",
    "#this function allows you to scroll until the bottom of a webpage, especiially when the webpage needs to execute sometimes a \n",
    "#javascript function to scroll down\n",
    "\n",
    "def scroll_page_until_bottom(driver):\n",
    "    sizepage = driver.execute_script(\"window.scrollTo(0, document.body.scrollHeight);var sizepage=document.body.scrollHeight;return lenOfPage;\")\n",
    "    print(sizepage)\n",
    "    stop_scroll = False\n",
    "        while (stop_scroll == False):\n",
    "        lastCount = sizepage\n",
    "        time.sleep(3)\n",
    "        sizepage = driver.execute_script(\n",
    "            \"window.scrollTo(0, document.body.scrollHeight);var lenOfPage=document.body.scrollHeight;return lenOfPage;\")\n",
    "        if lastCount == sizepage:\n",
    "            stop_scroll = True\n",
    "\n",
    "\n",
    "    time.sleep(3)\n",
    "    \n",
    "    return driver\n",
    "    "
   ]
  }
 ],
 "metadata": {
  "kernelspec": {
   "display_name": "Python 3 (ipykernel)",
   "language": "python",
   "name": "python3"
  },
  "language_info": {
   "codemirror_mode": {
    "name": "ipython",
    "version": 3
   },
   "file_extension": ".py",
   "mimetype": "text/x-python",
   "name": "python",
   "nbconvert_exporter": "python",
   "pygments_lexer": "ipython3",
   "version": "3.10.5"
  }
 },
 "nbformat": 4,
 "nbformat_minor": 5
}
